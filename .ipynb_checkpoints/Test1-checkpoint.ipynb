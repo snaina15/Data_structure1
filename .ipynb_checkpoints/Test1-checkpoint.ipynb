{
 "cells": [
  {
   "cell_type": "code",
   "execution_count": 1,
   "id": "27bf7313-9b33-40fa-a0f4-325296bab339",
   "metadata": {},
   "outputs": [
    {
     "data": {
      "text/plain": [
       "'dlroW olleH'"
      ]
     },
     "execution_count": 1,
     "metadata": {},
     "output_type": "execute_result"
    }
   ],
   "source": [
    "#Write a code to reverse a string.\n",
    "\n",
    "string1 = \"Hello World\"\n",
    "string1[::-1]"
   ]
  },
  {
   "cell_type": "code",
   "execution_count": 5,
   "id": "0ca9c469-b508-40bb-a1a5-fc8d3a560485",
   "metadata": {},
   "outputs": [
    {
     "name": "stdout",
     "output_type": "stream",
     "text": [
      "Number of vowels in the string: 3\n"
     ]
    }
   ],
   "source": [
    "#Write a code to count the number of vowels in a string.\n",
    "\n",
    "string2 = \"Hello, world!\"\n",
    "def count_vowels(string2):\n",
    "    vowels = \"aeiouAEIOU\"\n",
    "    vowel_count = 0\n",
    "    for char in string2:\n",
    "        if char in vowels:\n",
    "            vowel_count += 1\n",
    "    return vowel_count\n",
    "vowel_count = count_vowels(string2)\n",
    "print(\"Number of vowels in the string:\", vowel_count)"
   ]
  },
  {
   "cell_type": "code",
   "execution_count": 6,
   "id": "6f1c369d-a348-451c-b24e-c061159a730b",
   "metadata": {},
   "outputs": [
    {
     "name": "stdout",
     "output_type": "stream",
     "text": [
      "The string is not a palindrome.\n"
     ]
    }
   ],
   "source": [
    "#Write a code to check if a given string is a palindrome or not.\n",
    "\n",
    "string3 = \" bag, car, bus, train\"\n",
    "def is_palindrome(string3):\n",
    "    # Remove spaces and convert to lowercase\n",
    "    input_string = string3.replace(\" \", \"\").lower()\n",
    "    # Compare string with its reverse\n",
    "    return string3 == string3[::-1]\n",
    "if is_palindrome(string3):\n",
    "    print(\"The string is a palindrome.\")\n",
    "else:\n",
    "    print(\"The string is not a palindrome.\")"
   ]
  },
  {
   "cell_type": "code",
   "execution_count": 8,
   "id": "06f68673-f71d-4f56-bb39-9645c17b35e9",
   "metadata": {},
   "outputs": [
    {
     "name": "stdout",
     "output_type": "stream",
     "text": [
      "The strings are anagrams.\n"
     ]
    }
   ],
   "source": [
    "#Write a code to check if two given strings are anagrams of each other.\n",
    "\n",
    "s1 =\"listen\"\n",
    "s2 =\"silent\"\n",
    "def check(s1, s2):\n",
    "    if(sorted(s1)== sorted(s2)):\n",
    "        print(\"The strings are anagrams.\") \n",
    "    else:\n",
    "        print(\"The strings aren't anagrams.\")\n",
    "        \n",
    "check(s1, s2)"
   ]
  },
  {
   "cell_type": "code",
   "execution_count": 9,
   "id": "d277aba4-0714-4602-8c0c-a08a3920ef99",
   "metadata": {},
   "outputs": [
    {
     "name": "stdout",
     "output_type": "stream",
     "text": [
      "0 8 "
     ]
    }
   ],
   "source": [
    "#Write a code to find all occurrences of a given substring within another string.\n",
    "\n",
    "str1 = \"GeeksforGeeks\"\n",
    "str2 = \"Geeks\"\n",
    "def printIndex(str, s):\n",
    "\n",
    "    flag = False\n",
    "    for i in range(len(str)):\n",
    "        if (str[i:i + len(s)] == s):\n",
    "\n",
    "            print(i, end=\" \")\n",
    "            flag = True\n",
    "\n",
    "    if (flag == False):\n",
    "        print(\"NONE\")\n",
    "printIndex(str1, str2)"
   ]
  },
  {
   "cell_type": "code",
   "execution_count": 10,
   "id": "041d4f84-894c-4b98-9cbb-7706dc78a4c6",
   "metadata": {},
   "outputs": [
    {
     "name": "stdout",
     "output_type": "stream",
     "text": [
      "Compressed string: a2b1c5a3\n"
     ]
    }
   ],
   "source": [
    "#Write a code to perform basic string compression using the counts of repeated characters.\n",
    "\n",
    "def compress_string(string):\n",
    "    compressed = \"\"\n",
    "    count = 1\n",
    "    \n",
    "    # Iterate through the characters of the string\n",
    "    for i in range(len(string)):\n",
    "        # If current character is same as next character, increase count\n",
    "        if i < len(string) - 1 and string[i] == string[i + 1]:\n",
    "            count += 1\n",
    "        else:\n",
    "            # If current character is different from next character or end of string is reached,\n",
    "            # append the character and its count to the compressed string\n",
    "            compressed += string[i] + str(count)\n",
    "            # Reset count to 1 for the next character\n",
    "            count = 1\n",
    "    \n",
    "    # Check if the compressed string is shorter than the original string\n",
    "    if len(compressed) < len(string):\n",
    "        return compressed\n",
    "    else:\n",
    "        return string\n",
    "\n",
    "# Test the function\n",
    "input_string = \"aabcccccaaa\"\n",
    "compressed_string = compress_string(input_string)\n",
    "print(\"Compressed string:\", compressed_string)\n"
   ]
  },
  {
   "cell_type": "code",
   "execution_count": 11,
   "id": "8ec02dec-58b6-4da4-97a9-6e1f0d616cdd",
   "metadata": {},
   "outputs": [
    {
     "name": "stdout",
     "output_type": "stream",
     "text": [
      "The String  LoveforLove  has duplicate characters\n"
     ]
    }
   ],
   "source": [
    "#Write a code to determine if a string has all unique characters.\n",
    "\n",
    "def uniqueCharacters(str):\n",
    "    for i in range(len(str)):\n",
    "        for j in range(i + 1,len(str)): \n",
    "            if(str[i] == str[j]):\n",
    "                return False;\n",
    "    return True;\n",
    "str = \"LoveforLove\";\n",
    " \n",
    "if(uniqueCharacters(str)):\n",
    "    print(\"The String \", str,\" has all unique characters\");\n",
    "else:\n",
    "    print(\"The String \", str, \" has duplicate characters\")"
   ]
  },
  {
   "cell_type": "code",
   "execution_count": 13,
   "id": "9e498f64-2705-40b9-b849-4672854bc8a5",
   "metadata": {},
   "outputs": [
    {
     "data": {
      "text/plain": [
       "'hello world'"
      ]
     },
     "execution_count": 13,
     "metadata": {},
     "output_type": "execute_result"
    }
   ],
   "source": [
    "#Write a code to convert a given string to uppercase or lowercase.\n",
    "\n",
    "text = \"Hello World\"\n",
    "text.lower()"
   ]
  },
  {
   "cell_type": "code",
   "execution_count": 14,
   "id": "a0a03285-6a9b-4dc8-898b-7a5bc1fecbca",
   "metadata": {},
   "outputs": [
    {
     "data": {
      "text/plain": [
       "'HELLO WORLD'"
      ]
     },
     "execution_count": 14,
     "metadata": {},
     "output_type": "execute_result"
    }
   ],
   "source": [
    "text.upper()"
   ]
  },
  {
   "cell_type": "code",
   "execution_count": 15,
   "id": "7ce234ea-0499-44df-9eac-c29db88ecfd2",
   "metadata": {},
   "outputs": [
    {
     "data": {
      "text/plain": [
       "8"
      ]
     },
     "execution_count": 15,
     "metadata": {},
     "output_type": "execute_result"
    }
   ],
   "source": [
    "#Write a code to count the number of words in a string.\n",
    "\n",
    "s = \"pwskills\"\n",
    "len(s)"
   ]
  },
  {
   "cell_type": "code",
   "execution_count": 16,
   "id": "56a05b58-0ffe-457e-8dbb-ce062b246112",
   "metadata": {},
   "outputs": [
    {
     "name": "stdout",
     "output_type": "stream",
     "text": [
      "Concatenated string: Hello, world!\n"
     ]
    }
   ],
   "source": [
    "#Write a code to concatenate two strings without using the + operator.\n",
    "\n",
    "def concatenate_strings(string1, string2):\n",
    "    # Convert both strings to lists of characters\n",
    "    chars1 = list(string1)\n",
    "    chars2 = list(string2)\n",
    "    \n",
    "    # Extend the first list with the characters from the second list\n",
    "    chars1.extend(chars2)\n",
    "    \n",
    "    # Join the characters back into a single string\n",
    "    concatenated_string = ''.join(chars1)\n",
    "    \n",
    "    return concatenated_string\n",
    "\n",
    "# Test the function\n",
    "string1 = \"Hello, \"\n",
    "string2 = \"world!\"\n",
    "concatenated_string = concatenate_strings(string1, string2)\n",
    "print(\"Concatenated string:\", concatenated_string)\n"
   ]
  },
  {
   "cell_type": "code",
   "execution_count": 18,
   "id": "9d669cca-4513-4be4-80a6-7b2cbddab328",
   "metadata": {},
   "outputs": [
    {
     "name": "stdout",
     "output_type": "stream",
     "text": [
      "Original list: [15, 52, 42, 64, 42, 95, 82]\n",
      "Updated list after removing 42: [15, 52, 64, 95, 82]\n"
     ]
    }
   ],
   "source": [
    "#Write a code to remove all occurrences of a specific element from a list.\n",
    "\n",
    "def remove_element(lst, element):\n",
    "    # Use list comprehension to filter out elements that are not equal to the specified element\n",
    "    filtered_list = [item for item in lst if item != element]\n",
    "    return filtered_list\n",
    "\n",
    "# Test the function\n",
    "my_list = [15, 52, 42, 64, 42, 95, 82]\n",
    "element_to_remove = 42\n",
    "updated_list = remove_element(my_list, element_to_remove)\n",
    "print(\"Original list:\", my_list)\n",
    "print(\"Updated list after removing {}: {}\".format(element_to_remove, updated_list))\n"
   ]
  },
  {
   "cell_type": "code",
   "execution_count": 22,
   "id": "2e1f7acc-6a88-4886-abe9-76441ffd31e4",
   "metadata": {},
   "outputs": [
    {
     "name": "stdout",
     "output_type": "stream",
     "text": [
      "Second largest element is: 45\n"
     ]
    }
   ],
   "source": [
    "#Implement a code to find the second largest number in a given list of integers.\n",
    "\n",
    "\n",
    "list1 = [10, 20, 20, 4, 45, 45, 45, 99, 99]\n",
    "\n",
    "# Removing duplicates from the list\n",
    "list2 = list(set(list1))\n",
    "\n",
    "# Sorting the list\n",
    "list2.sort()\n",
    "print(\"Second largest element is:\", list2[-2])\n"
   ]
  },
  {
   "cell_type": "code",
   "execution_count": 23,
   "id": "488e30ee-c326-4cde-b715-29b6701df008",
   "metadata": {},
   "outputs": [
    {
     "name": "stdout",
     "output_type": "stream",
     "text": [
      "{1: 5, 5: 2, 3: 3, 4: 3, 2: 4}\n"
     ]
    }
   ],
   "source": [
    "#Create a code to count the occurrences of each element in a list and return a dictionary with elements as keys and their counts as values.\n",
    "\n",
    "def CountFrequency(my_list):\n",
    "\n",
    "\t# Creating an empty dictionary\n",
    "\tcount = {}\n",
    "\tfor i in [1, 1, 1, 5, 5, 3, 1, 3, 3, 1, 4, 4, 4, 2, 2, 2, 2]:\n",
    "\t\tcount[i] = count.get(i, 0) + 1\n",
    "\treturn count\n",
    "\n",
    "\n",
    "# Driver function\n",
    "if __name__ == \"__main__\":\n",
    "\tmy_list = [1, 1, 1, 5, 5, 3, 1, 3, 3, 1, 4, 4, 4, 2, 2, 2, 2]\n",
    "\tprint(CountFrequency(my_list))\n"
   ]
  },
  {
   "cell_type": "code",
   "execution_count": 3,
   "id": "ff36ffb7-d2d2-41e5-9364-5395830bfc18",
   "metadata": {},
   "outputs": [
    {
     "name": "stdout",
     "output_type": "stream",
     "text": [
      "Using reverse()  [35, 44, 23, 11, 15, 13]\n",
      "Using reversed()  [13, 15, 11, 23, 44, 35]\n"
     ]
    }
   ],
   "source": [
    "#Write a code to reverse a list in-place without using any built-in reverse functions.\n",
    "\n",
    "lst = [13, 15, 11, 23, 44, 35]\n",
    "lst.reverse()\n",
    "print(\"Using reverse() \", lst)\n",
    "\n",
    "print(\"Using reversed() \", list(reversed(lst)))\n"
   ]
  },
  {
   "cell_type": "code",
   "execution_count": 5,
   "id": "800adaf3-6e67-43e0-9fcd-dffb4064d5c6",
   "metadata": {},
   "outputs": [
    {
     "name": "stdout",
     "output_type": "stream",
     "text": [
      "The original list is : [13, 15, 31, 16, 31, 15, 16, 11]\n",
      "The list after removing duplicates : [11, 13, 15, 16, 31]\n"
     ]
    }
   ],
   "source": [
    "#Implement a code to find and remove duplicates from a list while preserving the original order of elements.\n",
    "\n",
    "# initializing list\n",
    "test_list = [13, 15, 31, 16, 31, 15, 16, 11]\n",
    "print (\"The original list is : \"\n",
    "\t\t+ str(test_list))\n",
    "\n",
    "# using set() to remove duplicated from list\n",
    "test_list = list(set(test_list))\n",
    "\n",
    "# printing list after removal\n",
    "# distorted ordering\n",
    "print (\"The list after removing duplicates : \"\n",
    "\t\t+ str(test_list))\n"
   ]
  },
  {
   "cell_type": "code",
   "execution_count": 6,
   "id": "cf439288-d382-4e02-aad3-ed16ebea7ada",
   "metadata": {},
   "outputs": [
    {
     "name": "stdout",
     "output_type": "stream",
     "text": [
      "Ascending list: Ascending\n",
      "Descending list: Descending\n",
      "Unsorted list: Not sorted\n"
     ]
    }
   ],
   "source": [
    "#Create a code to check if a given list is sorted (either in ascending or descending order) or not.\n",
    "\n",
    "def is_sorted(lst):\n",
    "    # Check if the list is sorted in ascending order\n",
    "    if all(lst[i] <= lst[i + 1] for i in range(len(lst) - 1)):\n",
    "        return \"Ascending\"\n",
    "    # Check if the list is sorted in descending order\n",
    "    elif all(lst[i] >= lst[i + 1] for i in range(len(lst) - 1)):\n",
    "        return \"Descending\"\n",
    "    else:\n",
    "        return \"Not sorted\"\n",
    "\n",
    "# Test the function\n",
    "ascending_list = [1, 2, 3, 4, 5]\n",
    "descending_list = [5, 4, 3, 2, 1]\n",
    "unsorted_list = [3, 1, 4, 2, 5]\n",
    "\n",
    "print(\"Ascending list:\", is_sorted(ascending_list))\n",
    "print(\"Descending list:\", is_sorted(descending_list))\n",
    "print(\"Unsorted list:\", is_sorted(unsorted_list))\n"
   ]
  },
  {
   "cell_type": "code",
   "execution_count": 7,
   "id": "33ce1d18-a0e5-4370-9219-51a05606db5f",
   "metadata": {},
   "outputs": [
    {
     "name": "stdout",
     "output_type": "stream",
     "text": [
      "Merged sorted list: [1, 2, 3, 4, 5, 6, 7, 8]\n"
     ]
    }
   ],
   "source": [
    "#Write a code to merge two sorted lists into a single sorted list.\n",
    "\n",
    "def merge_sorted_lists(list1, list2):\n",
    "    merged_list = []\n",
    "    i = 0  # Pointer for list1\n",
    "    j = 0  # Pointer for list2\n",
    "    \n",
    "    # Iterate through both lists until one of them is exhausted\n",
    "    while i < len(list1) and j < len(list2):\n",
    "        # Compare elements from both lists\n",
    "        if list1[i] < list2[j]:\n",
    "            merged_list.append(list1[i])\n",
    "            i += 1\n",
    "        else:\n",
    "            merged_list.append(list2[j])\n",
    "            j += 1\n",
    "    \n",
    "    # Append remaining elements from list1, if any\n",
    "    while i < len(list1):\n",
    "        merged_list.append(list1[i])\n",
    "        i += 1\n",
    "    \n",
    "    # Append remaining elements from list2, if any\n",
    "    while j < len(list2):\n",
    "        merged_list.append(list2[j])\n",
    "        j += 1\n",
    "    \n",
    "    return merged_list\n",
    "\n",
    "# Test the function\n",
    "list1 = [1, 3, 5, 7]\n",
    "list2 = [2, 4, 6, 8]\n",
    "merged_list = merge_sorted_lists(list1, list2)\n",
    "print(\"Merged sorted list:\", merged_list)\n"
   ]
  },
  {
   "cell_type": "code",
   "execution_count": 8,
   "id": "2de0b853-a8eb-40fd-9f25-a2540e490926",
   "metadata": {},
   "outputs": [
    {
     "name": "stdout",
     "output_type": "stream",
     "text": [
      "[9, 11, 26, 28]\n"
     ]
    }
   ],
   "source": [
    "#Implement a code to find the intersection of two given lists.\n",
    "\n",
    "# Python program to illustrate the intersection\n",
    "# of two lists in most simple way\n",
    "def intersection(lst1, lst2):\n",
    "\tlst3 = [value for value in lst1 if value in lst2]\n",
    "\treturn lst3\n",
    "\n",
    "# Driver Code\n",
    "lst1 = [4, 9, 1, 17, 11, 26, 28, 54, 69]\n",
    "lst2 = [9, 9, 74, 21, 45, 11, 63, 28, 26]\n",
    "print(intersection(lst1, lst2))\n"
   ]
  },
  {
   "cell_type": "code",
   "execution_count": 9,
   "id": "71c06630-3cbd-4cec-a3bd-40f0c9be5517",
   "metadata": {},
   "outputs": [
    {
     "name": "stdout",
     "output_type": "stream",
     "text": [
      "Union of the two lists: [1, 2, 3, 4, 5, 6, 7]\n"
     ]
    }
   ],
   "source": [
    "#Create a code to find the union of two lists without duplicates.\n",
    "\n",
    "def union_of_lists(list1, list2):\n",
    "    # Convert both lists to sets to remove duplicates\n",
    "    set1 = set(list1)\n",
    "    set2 = set(list2)\n",
    "    \n",
    "    # Find the union of the sets\n",
    "    union_set = set1.union(set2)\n",
    "    \n",
    "    # Convert the union set back to a list\n",
    "    union_list = list(union_set)\n",
    "    \n",
    "    return union_list\n",
    "\n",
    "# Test the function\n",
    "list1 = [1, 2, 3, 4, 5]\n",
    "list2 = [3, 4, 5, 6, 7]\n",
    "union = union_of_lists(list1, list2)\n",
    "print(\"Union of the two lists:\", union)\n"
   ]
  },
  {
   "cell_type": "code",
   "execution_count": 10,
   "id": "da08e5f3-58ac-484e-82a0-14ee24f3bbca",
   "metadata": {},
   "outputs": [
    {
     "name": "stdout",
     "output_type": "stream",
     "text": [
      "Original list: [1, 2, 3, 4, 5]\n",
      "Shuffled list: [3, 2, 4, 1, 5]\n"
     ]
    }
   ],
   "source": [
    "#Write a code to shuffle a given list randomly without using any built-in shuffle functions.\n",
    "\n",
    "import random\n",
    "\n",
    "my_list = [1, 2, 3, 4, 5]\n",
    "\n",
    "shuffled_list = sorted(my_list, key=lambda x: random.random())\n",
    "\n",
    "print(\"Original list:\", my_list)\n",
    "print(\"Shuffled list:\", shuffled_list)\n"
   ]
  },
  {
   "cell_type": "code",
   "execution_count": 11,
   "id": "b6e925e1-3f1b-4629-a532-89fcbe380e7e",
   "metadata": {},
   "outputs": [
    {
     "name": "stdout",
     "output_type": "stream",
     "text": [
      "Common elements: (4, 5)\n"
     ]
    }
   ],
   "source": [
    "#Write a code that takes two tuples as input and returns a new tuple containing elements that are common to both input tuples.\n",
    "\n",
    "def common_elements(tuple1, tuple2):\n",
    "    # Convert both tuples to sets\n",
    "    set1 = set(tuple1)\n",
    "    set2 = set(tuple2)\n",
    "    \n",
    "    # Find the intersection of the two sets\n",
    "    common_set = set1.intersection(set2)\n",
    "    \n",
    "    # Convert the common set back to a tuple\n",
    "    common_tuple = tuple(common_set)\n",
    "    \n",
    "    return common_tuple\n",
    "\n",
    "# Test the function\n",
    "tuple1 = (1, 2, 3, 4, 5)\n",
    "tuple2 = (4, 5, 6, 7, 8)\n",
    "common = common_elements(tuple1, tuple2)\n",
    "print(\"Common elements:\", common)\n"
   ]
  },
  {
   "cell_type": "code",
   "execution_count": 12,
   "id": "50ddbf35-9c86-46c8-8a50-42be44d53127",
   "metadata": {},
   "outputs": [
    {
     "name": "stdout",
     "output_type": "stream",
     "text": [
      "1 2 3 4 5 "
     ]
    }
   ],
   "source": [
    "#Create a code that prompts the user to enter two sets of integers separated by commas. Then, print the intersection of these two sets.\n",
    "\n",
    "# Python code to implement the approach\n",
    "\n",
    "def Unionarray(arr1, arr2, n, m):\n",
    "\t# Create a set to store unique elements from both arrays\n",
    "\tset1 = set(arr1)\n",
    "\tset2 = set(arr2)\n",
    "\t# Merge both sets and convert back to list\n",
    "\tresult = list(set1.union(set2))\n",
    "\treturn result\n",
    "\n",
    "# Driver code\n",
    "if __name__ == \"__main__\":\n",
    "\tarr1 = [1, 2, 2, 2, 3]\n",
    "\tarr2 = [2, 3, 3, 4, 5, 5]\n",
    "\tn = len(arr1)\n",
    "\tm = len(arr2)\n",
    "\n",
    "\t# Function call\n",
    "\tuni = Unionarray(arr1, arr2, n, m)\n",
    "\tfor i in uni:\n",
    "\t\tprint(i, end=\" \")\n"
   ]
  },
  {
   "cell_type": "code",
   "execution_count": 13,
   "id": "b9124074-f996-404b-a470-0e2bdb7bc088",
   "metadata": {},
   "outputs": [
    {
     "name": "stdout",
     "output_type": "stream",
     "text": [
      "Concatenated tuple: (1, 2, 3, 4, 5, 6)\n"
     ]
    }
   ],
   "source": [
    "#Write a code to concatenate two tuples. The function should take two tuples as input and return a new tuple containing elements from both input tuples.\n",
    "\n",
    "def concatenate_tuples(tuple1, tuple2):\n",
    "    # Concatenate the two tuples and return the result\n",
    "    concatenated_tuple = tuple1 + tuple2\n",
    "    return concatenated_tuple\n",
    "\n",
    "# Test the function\n",
    "tuple1 = (1, 2, 3)\n",
    "tuple2 = (4, 5, 6)\n",
    "concatenated = concatenate_tuples(tuple1, tuple2)\n",
    "print(\"Concatenated tuple:\", concatenated)\n"
   ]
  },
  {
   "cell_type": "code",
   "execution_count": 14,
   "id": "bdae7da3-d516-4c3a-ad9a-b7a5907ee540",
   "metadata": {},
   "outputs": [
    {
     "name": "stdout",
     "output_type": "stream",
     "text": [
      "{'f', 'r', 'o'}\n"
     ]
    }
   ],
   "source": [
    "#Develop a code that prompts the user to input two sets of strings. Then, print the elements that are present in the first set but not in the second set.\n",
    "\n",
    "a = \"geeksforgeeks\"\n",
    "b = \"geeks\"\n",
    "\n",
    "# convert string 1 into set\n",
    "setA = set(a)\n",
    "\n",
    "# convert string 2 into set\n",
    "setB = set(b)\n",
    "\n",
    "# store the difference in form of list\n",
    "result = setA-setB\n",
    "\n",
    "# print result\n",
    "print(result)\n"
   ]
  },
  {
   "cell_type": "code",
   "execution_count": 15,
   "id": "bd16d2a2-9100-4d14-99cf-18b7fe08d06e",
   "metadata": {},
   "outputs": [
    {
     "name": "stdout",
     "output_type": "stream",
     "text": [
      "New tuple containing elements within the specified range: (3, 4, 5, 6)\n"
     ]
    }
   ],
   "source": [
    "#Create a code that takes a tuple and two integers as input. The function should return a new tuple containing elements from the original tuple within the specified range of indices\n",
    "\n",
    "\n",
    "def get_elements_in_range(input_tuple, start_index, end_index):\n",
    "    # Slice the input tuple based on the specified range of indices\n",
    "    sliced_tuple = input_tuple[start_index:end_index+1]\n",
    "    return sliced_tuple\n",
    "\n",
    "# Test the function\n",
    "input_tuple = (1, 2, 3, 4, 5, 6, 7)\n",
    "start_index = 2\n",
    "end_index = 5\n",
    "result_tuple = get_elements_in_range(input_tuple, start_index, end_index)\n",
    "print(\"New tuple containing elements within the specified range:\", result_tuple)\n"
   ]
  },
  {
   "cell_type": "code",
   "execution_count": 17,
   "id": "44901787-00c8-405a-acfd-7998fe3fbf20",
   "metadata": {},
   "outputs": [
    {
     "name": "stdout",
     "output_type": "stream",
     "text": [
      "1 2 3 4 5 "
     ]
    }
   ],
   "source": [
    "#Write a code that prompts the user to input two sets of characters. Then, print the union of these two sets&.\n",
    "\n",
    "def next_distinct(arr, x):\n",
    "\t\"\"\"\n",
    "\tHelper function for printUnion(). This same function can also be implemented as a lambda function inside printUnion().\n",
    "\tThis function moves to the next distinct element in the array.\n",
    "\t\"\"\"\n",
    "\twhile x < len(arr) - 1 and arr[x] == arr[x + 1]:\n",
    "\t\tx += 1\n",
    "\treturn x + 1\n",
    "\n",
    "\n",
    "def printUnion(arr1, arr2):\n",
    "\t\"\"\"\n",
    "\tThis function prints the union of two arrays without duplicates.\n",
    "\n",
    "\t\"\"\"\n",
    "\ti = j = 0\n",
    "\twhile i < len(arr1) and j < len(arr2):\n",
    "\t\tif arr1[i] < arr2[j]:\n",
    "\t\t\tprint(arr1[i], end=\" \")\n",
    "\t\t\ti = next_distinct(arr1, i)\n",
    "\t\telif arr1[i] > arr2[j]:\n",
    "\t\t\tprint(arr2[j], end=\" \")\n",
    "\t\t\tj = next_distinct(arr2, j)\n",
    "\t\telse:\n",
    "\t\t\tprint(arr1[i], end=\" \")\n",
    "\t\t\ti = next_distinct(arr1, i)\n",
    "\t\t\tj = next_distinct(arr2, j)\n",
    "\n",
    "\twhile i < len(arr1):\n",
    "\t\tprint(arr1[i], end=\" \")\n",
    "\t\ti = next_distinct(arr1, i)\n",
    "\n",
    "\twhile j < len(arr2):\n",
    "\t\tprint(arr2[j], end=\" \")\n",
    "\t\tj = next_distinct(arr2, j)\n",
    "\n",
    "\n",
    "arr1 = [1, 2, 2, 2, 3]\n",
    "arr2 = [2, 3, 3, 4, 5, 5]\n",
    "printUnion(arr1, arr2)\n"
   ]
  },
  {
   "cell_type": "code",
   "execution_count": 18,
   "id": "dbede9e6-2e23-4cfc-84b6-cb17e317b89a",
   "metadata": {},
   "outputs": [
    {
     "name": "stdout",
     "output_type": "stream",
     "text": [
      "Maximum value: 5\n",
      "Minimum value: 1\n"
     ]
    }
   ],
   "source": [
    "#Develop a code that takes a tuple of integers as input. The function should return the maximum and minimum values from the tuple using tuple unpacking.\n",
    "\n",
    "def find_max_min(input_tuple):\n",
    "    # Use tuple unpacking to get the maximum and minimum values\n",
    "    max_value = max(input_tuple)\n",
    "    min_value = min(input_tuple)\n",
    "    return max_value, min_value\n",
    "\n",
    "# Test the function\n",
    "input_tuple = (3, 1, 5, 2, 4)\n",
    "max_value, min_value = find_max_min(input_tuple)\n",
    "print(\"Maximum value:\", max_value)\n",
    "print(\"Minimum value:\", min_value)\n"
   ]
  },
  {
   "cell_type": "code",
   "execution_count": 19,
   "id": "96e5e97a-123a-4025-b919-affa62407962",
   "metadata": {},
   "outputs": [
    {
     "name": "stdout",
     "output_type": "stream",
     "text": [
      "Union : {0, 1, 2, 3, 4, 5, 6, 8}\n",
      "Intersection : {2, 4}\n",
      "Difference : {0, 8, 6}\n",
      "Symmetric difference : {0, 1, 3, 5, 6, 8}\n"
     ]
    }
   ],
   "source": [
    "#Create a code that defines two sets of integers. Then, print the union, intersection, and difference of these two sets.\n",
    "\n",
    "# Program to perform different set operations \n",
    "# as we do in mathematics \n",
    "\n",
    "# sets are define \n",
    "A = {0, 2, 4, 6, 8}; \n",
    "B = {1, 2, 3, 4, 5}; \n",
    "\n",
    "# union \n",
    "print(\"Union :\", A | B) \n",
    "\n",
    "# intersection \n",
    "print(\"Intersection :\", A & B) \n",
    "\n",
    "# difference \n",
    "print(\"Difference :\", A - B) \n",
    "\n",
    "# symmetric difference \n",
    "print(\"Symmetric difference :\", A ^ B) \n"
   ]
  },
  {
   "cell_type": "code",
   "execution_count": 21,
   "id": "7b0784e2-fd9c-4012-b5e1-6ee1c23a4609",
   "metadata": {},
   "outputs": [
    {
     "name": "stdout",
     "output_type": "stream",
     "text": [
      "Number of occurrences of 2: 3\n"
     ]
    }
   ],
   "source": [
    "#Write a code that takes a tuple and an element as input. The function should return the count of occurrences of the given element in the tuple.\n",
    "\n",
    "def count_occurrences(input_tuple, element):\n",
    "    # Use the count() method to count occurrences of the element in the tuple\n",
    "    occurrences = input_tuple.count(element)\n",
    "    return occurrences\n",
    "\n",
    "# Test the function\n",
    "input_tuple = (1, 2, 2, 3, 4, 2, 5)\n",
    "element = 2\n",
    "occurrences = count_occurrences(input_tuple, element)\n",
    "print(\"Number of occurrences of {}: {}\".format(element, occurrences))\n",
    "\n"
   ]
  },
  {
   "cell_type": "code",
   "execution_count": 22,
   "id": "f4f30296-1a06-45c9-b552-3547c9c3a42c",
   "metadata": {},
   "outputs": [
    {
     "data": {
      "text/plain": [
       "{'hiking', 'photography', 'reading', 'travelling'}"
      ]
     },
     "execution_count": 22,
     "metadata": {},
     "output_type": "execute_result"
    }
   ],
   "source": [
    "#Develop a code that prompts the user to input two sets of strings. Then, print the symmetric difference of these two sets.\n",
    "\n",
    "s1 = {\"hiking\", \"reading\", \"coding\"}\n",
    "s2 = {\"coding\", \"photography\", \"travelling\"}\n",
    "s1^s2"
   ]
  },
  {
   "cell_type": "code",
   "execution_count": 23,
   "id": "8f3b3179-a82f-453c-a043-7728682dc2e2",
   "metadata": {},
   "outputs": [
    {
     "name": "stdout",
     "output_type": "stream",
     "text": [
      " 1 :  5\n",
      " 5 :  2\n",
      " 3 :  3\n",
      " 4 :  3\n",
      " 2 :  4\n"
     ]
    }
   ],
   "source": [
    "#Write a code that takes a list of words as input and returns a dictionary where the keys are unique words and the values are the frequencies of those words in the input list.\n",
    "\n",
    "def CountFrequency(my_list):\n",
    "\n",
    "\t# Creating an empty dictionary\n",
    "\tfreq = {}\n",
    "\tfor item in my_list:\n",
    "\t\tif (item in freq):\n",
    "\t\t\tfreq[item] += 1\n",
    "\t\telse:\n",
    "\t\t\tfreq[item] = 1\n",
    "\n",
    "\tfor key, value in freq.items():\n",
    "\t\tprint(\"% d : % d\" % (key, value))\n",
    "\n",
    "\n",
    "# Driver function\n",
    "if __name__ == \"__main__\":\n",
    "\tmy_list = [1, 1, 1, 5, 5, 3, 1, 3, 3, 1, 4, 4, 4, 2, 2, 2, 2]\n",
    "\n",
    "\tCountFrequency(my_list)\n"
   ]
  },
  {
   "cell_type": "code",
   "execution_count": 25,
   "id": "1377e761-8d7a-42a8-9950-ed95193e796d",
   "metadata": {},
   "outputs": [
    {
     "name": "stdout",
     "output_type": "stream",
     "text": [
      "{'Geeks': 100, 'geek': 200, 'for': 325}\n"
     ]
    }
   ],
   "source": [
    "#Write a code that takes two dictionaries as input and merges them into a single dictionary. If there are common keys, the values should be added together.\n",
    "\n",
    "\n",
    "dict1 = {'a': 12, 'for': 25, 'c': 9}\n",
    "dict2 = {'Geeks': 100, 'geek': 200, 'for': 300}\n",
    "\n",
    "\n",
    "# adding the values with common key\n",
    "for key in dict2:\n",
    "\tif key in dict1:\n",
    "\t\tdict2[key] = dict2[key] + dict1[key]\n",
    "\telse:\n",
    "\t\tpass\n",
    "\t\t\n",
    "print(dict2)\n"
   ]
  },
  {
   "cell_type": "code",
   "execution_count": 26,
   "id": "77dab8cc-a29c-44d4-9ede-3b3ebd9707f9",
   "metadata": {},
   "outputs": [
    {
     "name": "stdout",
     "output_type": "stream",
     "text": [
      "The original dictionary is : {'Gfg': {'is': 'best'}}\n",
      "The nested safely accessed value is : best\n"
     ]
    }
   ],
   "source": [
    "#Write a code to access a value in a nested dictionary. The function should take the dictionary and a list of keys as input, and return the corresponding value. If any of the keys do not exist in the dictionary, the function should return None.\n",
    "\n",
    "\n",
    "# initializing dictionary\n",
    "test_dict = {'Gfg' : {'is' : 'best'}}\n",
    "\n",
    "# printing original dictionary\n",
    "print(\"The original dictionary is : \" + str(test_dict))\n",
    "\n",
    "# using nested get()\n",
    "# Safe access nested dictionary key\n",
    "res = test_dict.get('Gfg', {}).get('is')\n",
    "\n",
    "# printing result\n",
    "print(\"The nested safely accessed value is : \" + str(res))\n"
   ]
  },
  {
   "cell_type": "code",
   "execution_count": 28,
   "id": "9b3b07c9-d5bc-4b9d-afa9-36dd59d03d29",
   "metadata": {},
   "outputs": [
    {
     "name": "stdout",
     "output_type": "stream",
     "text": [
      "Sorted dictionary (ascending order): {'b': 11, 'c': 12, 'a': 13}\n"
     ]
    }
   ],
   "source": [
    "#Write a code that takes a dictionary as input and returns a sorted version of it based on the values. You can choose whether to sort in ascending or descending order.\n",
    "\n",
    "def sort_dict_by_values(dictionary, ascending=True):\n",
    "    # Sort the dictionary based on values\n",
    "    sorted_dict = dict(sorted(dictionary.items(), key=lambda item: item[1], reverse=not ascending))\n",
    "    return sorted_dict\n",
    "\n",
    "# Test the function\n",
    "my_dict = {'a': 13, 'b': 11, 'c': 12}\n",
    "sorted_dict = sort_dict_by_values(my_dict)\n",
    "print(\"Sorted dictionary (ascending order):\", sorted_dict)\n"
   ]
  },
  {
   "cell_type": "code",
   "execution_count": 31,
   "id": "9b48ac7b-2391-4ccd-9d65-acbefec219b2",
   "metadata": {},
   "outputs": [
    {
     "name": "stdout",
     "output_type": "stream",
     "text": [
      "Inverted dictionary: {1: ['a', 'c'], 2: ['b', 'd']}\n"
     ]
    }
   ],
   "source": [
    "#Write a code that inverts a dictionary, swapping keys and values. Ensure that the inverted dictionary correctly handles cases where multiple keys have the same value by storing the keys as a list in the inverted dictionary.\n",
    "\n",
    "def invert_dict(dictionary):\n",
    "    inverted_dict = {}\n",
    "    \n",
    "    for key, value in dictionary.items():\n",
    "        if value not in inverted_dict:\n",
    "            inverted_dict[value] = [key]\n",
    "        else:\n",
    "            inverted_dict[value].append(key)\n",
    "    \n",
    "    return inverted_dict\n",
    "\n",
    "# Test the function\n",
    "original_dict = {'a': 1, 'b': 2, 'c': 1, 'd': 2}\n",
    "inverted_dict = invert_dict(original_dict)\n",
    "print(\"Inverted dictionary:\", inverted_dict)\n",
    "\n"
   ]
  },
  {
   "cell_type": "code",
   "execution_count": null,
   "id": "e0351c47-ef09-46af-bc11-8aedb0a4e800",
   "metadata": {},
   "outputs": [],
   "source": []
  }
 ],
 "metadata": {
  "kernelspec": {
   "display_name": "Python 3 (ipykernel)",
   "language": "python",
   "name": "python3"
  },
  "language_info": {
   "codemirror_mode": {
    "name": "ipython",
    "version": 3
   },
   "file_extension": ".py",
   "mimetype": "text/x-python",
   "name": "python",
   "nbconvert_exporter": "python",
   "pygments_lexer": "ipython3",
   "version": "3.10.8"
  }
 },
 "nbformat": 4,
 "nbformat_minor": 5
}
